{
  "cells": [
    {
      "cell_type": "code",
      "execution_count": 1,
      "metadata": {
        "trusted": true
      },
      "outputs": [],
      "source": "\"\"\"\nCreated on 20191210\nljz talk yuanweihua juzhenfenjie\n\"\"\"\n\nimport numpy as np \nimport qiskit\nimport math\nimport numpy as np\nfrom scipy.linalg import sqrtm\n\nimport qiskit \nfrom qiskit import QuantumRegister, ClassicalRegister, QuantumCircuit\n\nimport numpy as np\n\nfrom qiskit import BasicAer, execute,IBMQ\nfrom qiskit.tools.visualization import plot_histogram\n\nimport qiskit.quantum_info\nfrom  qiskit.quantum_info import DensityMatrix,random_density_matrix,purity"
    },
    {
      "cell_type": "code",
      "execution_count": 2,
      "metadata": {
        "trusted": true
      },
      "outputs": [
        {
          "name": "stderr",
          "output_type": "stream",
          "text": "/opt/conda/lib/python3.7/site-packages/qiskit/quantum_info/synthesis/two_qubit_decompose.py:64: DeprecationWarning: euler_angles_q1` is deprecated. Use `synthesis.OneQubitEulerDecomposer().angles instead.\n  DeprecationWarning)\n/opt/conda/lib/python3.7/site-packages/qiskit/quantum_info/synthesis/two_qubit_decompose.py:64: DeprecationWarning: euler_angles_q1` is deprecated. Use `synthesis.OneQubitEulerDecomposer().angles instead.\n  DeprecationWarning)\n/opt/conda/lib/python3.7/site-packages/qiskit/quantum_info/synthesis/two_qubit_decompose.py:64: DeprecationWarning: euler_angles_q1` is deprecated. Use `synthesis.OneQubitEulerDecomposer().angles instead.\n  DeprecationWarning)\n/opt/conda/lib/python3.7/site-packages/qiskit/quantum_info/synthesis/two_qubit_decompose.py:64: DeprecationWarning: euler_angles_q1` is deprecated. Use `synthesis.OneQubitEulerDecomposer().angles instead.\n  DeprecationWarning)\n/opt/conda/lib/python3.7/site-packages/qiskit/quantum_info/synthesis/two_qubit_decompose.py:64: DeprecationWarning: euler_angles_q1` is deprecated. Use `synthesis.OneQubitEulerDecomposer().angles instead.\n  DeprecationWarning)\n/opt/conda/lib/python3.7/site-packages/qiskit/quantum_info/synthesis/two_qubit_decompose.py:64: DeprecationWarning: euler_angles_q1` is deprecated. Use `synthesis.OneQubitEulerDecomposer().angles instead.\n  DeprecationWarning)\n/opt/conda/lib/python3.7/site-packages/qiskit/quantum_info/synthesis/two_qubit_decompose.py:64: DeprecationWarning: euler_angles_q1` is deprecated. Use `synthesis.OneQubitEulerDecomposer().angles instead.\n  DeprecationWarning)\n/opt/conda/lib/python3.7/site-packages/qiskit/quantum_info/synthesis/two_qubit_decompose.py:64: DeprecationWarning: euler_angles_q1` is deprecated. Use `synthesis.OneQubitEulerDecomposer().angles instead.\n  DeprecationWarning)\n/opt/conda/lib/python3.7/site-packages/qiskit/quantum_info/synthesis/two_qubit_decompose.py:64: DeprecationWarning: euler_angles_q1` is deprecated. Use `synthesis.OneQubitEulerDecomposer().angles instead.\n  DeprecationWarning)\n/opt/conda/lib/python3.7/site-packages/qiskit/quantum_info/synthesis/two_qubit_decompose.py:64: DeprecationWarning: euler_angles_q1` is deprecated. Use `synthesis.OneQubitEulerDecomposer().angles instead.\n  DeprecationWarning)\n/opt/conda/lib/python3.7/site-packages/qiskit/quantum_info/synthesis/two_qubit_decompose.py:64: DeprecationWarning: euler_angles_q1` is deprecated. Use `synthesis.OneQubitEulerDecomposer().angles instead.\n  DeprecationWarning)\n/opt/conda/lib/python3.7/site-packages/qiskit/quantum_info/synthesis/two_qubit_decompose.py:64: DeprecationWarning: euler_angles_q1` is deprecated. Use `synthesis.OneQubitEulerDecomposer().angles instead.\n  DeprecationWarning)\n"
        }
      ],
      "source": "U1 = np.array([[0.41145870597309902594318486990232 + 0.90366723828025330433888484549243j,\n                - 0.060780755636371364136749662065995 + 0.10194584583078646067288985932464j],\n               [0.060780755636371364136749662065995 + 0.10194584583078646067288985932464j,\n                0.41145870597309902594318486990232 - 0.90366723828025330433888484549243j]])\n\nU2 = np.array([[0.079700868890452858384065848440514 - 0.14835900913649099908120376767329j,\n                - 0.98571668135734891169619231732213],\n               [0.98571668135734891169619231732213,\n                0.079700868890452858384065848440514 + 0.14835900913649099908120376767329j]])\n\nU3 = np.array([[0.82449782101505375564443056646269 + 0.3872663156570927411870286505291j,\n                -0.41258713491674642304118947322422],\n               [0.41258713491674642304118947322422,\n                0.82449782101505375564443056646269 - 0.3872663156570927411870286505291j]])\n\nU4 = np.array([[- 0.43594296411894317699875500693452 + 0.81148508287415510586981781671057j,\n                - 0.34152024030478705940438999277831 + 0.18657335761055485190418323782069j],\n               [- 0.34152024030478705940438999277831 - 0.18657335761055485190418323782069j,\n                 0.43594296411894317699875500693452 + 0.81148508287415510586981781671057j]])\n\nU5 = np.array([[ 0.18282407436379022325212417854345,\n                - 0.98091276824020767755030192347476 + 0.066223099718723754669724712584866j],\n               [- 0.98091276824020767755030192347476 - 0.066223099718723754669724712584866j,\n                - 0.18282407436379022325212417854345]])\n\nU6 = np.array([[- 0.53456521895776987207682395819575 - 0.74299352948489394421471843088511j,\n               0.244790322409716487594977252229 - 0.31980984956495456250635811557004j],\n               [0.13684993341251239229450220591389 - 0.37877795282883447436361734617094j,\n                - 0.91403431740133866956199426567764 - 0.048380004014647703947105128463591j]])\n\nV1=sqrtm(U1)\nV2=sqrtm(U2)\nV3=sqrtm(U3)\nV4=sqrtm(U4)\nV5=sqrtm(U5)\nV6=sqrtm(U6)\n\nV11=(np.matrix(V1)).H\nV22=(np.matrix(V2)).H\nV33=(np.matrix(V3)).H\nV44=(np.matrix(V4)).H\nV55=(np.matrix(V5)).H\nV66=(np.matrix(V6)).H\n\n(th1, ph1, lam1) = qiskit.quantum_info.synthesis.two_qubit_decompose.euler_angles_1q(V1)\n(th11, ph11, lam11) = qiskit.quantum_info.synthesis.two_qubit_decompose.euler_angles_1q(V11)\n\n(th2, ph2, lam2) = qiskit.quantum_info.synthesis.two_qubit_decompose.euler_angles_1q(V2)\n(th22, ph22, lam22) = qiskit.quantum_info.synthesis.two_qubit_decompose.euler_angles_1q(V22)\n\n(th3, ph3, lam3) = qiskit.quantum_info.synthesis.two_qubit_decompose.euler_angles_1q(V3)\n(th33, ph33, lam33) = qiskit.quantum_info.synthesis.two_qubit_decompose.euler_angles_1q(V33)\n\n(th4, ph4, lam4) = qiskit.quantum_info.synthesis.two_qubit_decompose.euler_angles_1q(V4)\n(th44, ph44, lam44) = qiskit.quantum_info.synthesis.two_qubit_decompose.euler_angles_1q(V44)\n\n(th5, ph5, lam5) = qiskit.quantum_info.synthesis.two_qubit_decompose.euler_angles_1q(V5)\n(th55, ph55, lam55) = qiskit.quantum_info.synthesis.two_qubit_decompose.euler_angles_1q(V55)\n\n(th6, ph6, lam6) = qiskit.quantum_info.synthesis.two_qubit_decompose.euler_angles_1q(V6)\n(th66, ph66, lam66) = qiskit.quantum_info.synthesis.two_qubit_decompose.euler_angles_1q(V66)\n"
    },
    {
      "cell_type": "code",
      "execution_count": 3,
      "metadata": {
        "trusted": true
      },
      "outputs": [],
      "source": "q = QuantumRegister(5)\nc = ClassicalRegister(5)\nqc = QuantumCircuit(q,c)"
    },
    {
      "cell_type": "code",
      "execution_count": 4,
      "metadata": {
        "trusted": true
      },
      "outputs": [
        {
          "data": {
            "text/plain": "<qiskit.circuit.instructionset.InstructionSet at 0x7fcfb2170690>"
          },
          "execution_count": 4,
          "metadata": {},
          "output_type": "execute_result"
        }
      ],
      "source": "#initial q[0]\nqc.h(q[0])\n\n#initial density\nstate_vector=[0.0229642805598639,-0.0534389501789944,-0.659705851438454,0,-0.0256716915519052,-0.252911197407765,0.12732466563331,\n             0,-0.0230209852560191,0.269693046091341,-0.0968421660632198,0,0.0257283962480604,0.0366571014954189,0.629223351868363,0]\nqc.initialize(state_vector,[q[1],q[2],q[3],q[4]])\n\n#CU1\nqc.cu3(th1, ph1, lam1,q[3],q[4])\nqc.cx(q[0],q[3])\nqc.cu3(th11, ph11, lam11,q[3],q[4])\nqc.cx(q[0],q[3])\nqc.cu3(th1, ph1, lam1,q[0],q[4])\n\n#CU2\nqc.cu3(th2, ph2, lam2,q[4],q[3])\nqc.cx(q[0],q[4])\nqc.cu3(th22, ph22, lam22,q[4],q[3])\nqc.cx(q[0],q[4])\nqc.cu3(th2, ph2, lam2,q[0],q[3])\n\n#CU3\nqc.x(q[3])\nqc.cu3(th3, ph3, lam3,q[3],q[4])\nqc.cx(q[0],q[3])\nqc.cu3(th33, ph33, lam33,q[3],q[4])\nqc.cx(q[0],q[3])\nqc.cu3(th3, ph3, lam3,q[0],q[4])\nqc.x(q[3])\n\n#yufei\nqc.x(q[3])\nqc.ccx(q[0],q[3],q[4])\nqc.x(q[3])\n\n#CU4\nqc.x(q[4])\nqc.cu3(th4, ph4, lam4,q[4],q[3])\nqc.cx(q[0],q[4])\nqc.cu3(th44, ph44, lam44,q[4],q[3])\nqc.cx(q[0],q[4])\nqc.cu3(th4, ph4, lam4,q[0],q[3])\nqc.x(q[4])\n\n#yufei\nqc.x(q[3])\nqc.ccx(q[0],q[3],q[4])\nqc.x(q[3])\n\n#CU5\nqc.cu3(th5, ph5, lam5,q[4],q[3])\nqc.cx(q[0],q[4])\nqc.cu3(th55, ph55, lam55,q[4],q[3])\nqc.cx(q[0],q[4])\nqc.cu3(th5, ph5, lam5,q[0],q[3])\n\n#CU6\nqc.cu3(th6, ph6, lam6,q[3],q[4])\nqc.cx(q[0],q[3])\nqc.cu3(th66, ph66, lam66,q[3],q[4])\nqc.cx(q[0],q[3])\nqc.cu3(th6, ph6, lam6,q[0],q[4])\n\n#InverseQFT\nqc.h(q[0])\n"
    },
    {
      "cell_type": "code",
      "execution_count": 5,
      "metadata": {
        "trusted": true
      },
      "outputs": [
        {
          "ename": "AttributeError",
          "evalue": "'Initialize' object has no attribute 'label'",
          "output_type": "error",
          "traceback": [
            "\u001b[0;31m---------------------------------------------------------------------------\u001b[0m",
            "\u001b[0;31mAttributeError\u001b[0m                            Traceback (most recent call last)",
            "\u001b[0;32m<ipython-input-5-22b11f2b684d>\u001b[0m in \u001b[0;36m<module>\u001b[0;34m\u001b[0m\n\u001b[1;32m      8\u001b[0m \u001b[0mqc\u001b[0m\u001b[0;34m.\u001b[0m\u001b[0mmeasure\u001b[0m\u001b[0;34m(\u001b[0m\u001b[0mq\u001b[0m\u001b[0;34m[\u001b[0m\u001b[0;36m3\u001b[0m\u001b[0;34m]\u001b[0m\u001b[0;34m,\u001b[0m\u001b[0mc\u001b[0m\u001b[0;34m[\u001b[0m\u001b[0;36m3\u001b[0m\u001b[0;34m]\u001b[0m\u001b[0;34m)\u001b[0m\u001b[0;34m\u001b[0m\u001b[0;34m\u001b[0m\u001b[0m\n\u001b[1;32m      9\u001b[0m \u001b[0mqc\u001b[0m\u001b[0;34m.\u001b[0m\u001b[0mmeasure\u001b[0m\u001b[0;34m(\u001b[0m\u001b[0mq\u001b[0m\u001b[0;34m[\u001b[0m\u001b[0;36m4\u001b[0m\u001b[0;34m]\u001b[0m\u001b[0;34m,\u001b[0m\u001b[0mc\u001b[0m\u001b[0;34m[\u001b[0m\u001b[0;36m4\u001b[0m\u001b[0;34m]\u001b[0m\u001b[0;34m)\u001b[0m\u001b[0;34m\u001b[0m\u001b[0;34m\u001b[0m\u001b[0m\n\u001b[0;32m---> 10\u001b[0;31m \u001b[0mqc\u001b[0m\u001b[0;34m.\u001b[0m\u001b[0mdraw\u001b[0m\u001b[0;34m(\u001b[0m\u001b[0;34m)\u001b[0m\u001b[0;34m\u001b[0m\u001b[0;34m\u001b[0m\u001b[0m\n\u001b[0m\u001b[1;32m     11\u001b[0m \u001b[0;31m#qc.draw(output='mpl')\u001b[0m\u001b[0;34m\u001b[0m\u001b[0;34m\u001b[0m\u001b[0;34m\u001b[0m\u001b[0m\n",
            "\u001b[0;32m/opt/conda/lib/python3.7/site-packages/qiskit/circuit/quantumcircuit.py\u001b[0m in \u001b[0;36mdraw\u001b[0;34m(self, output, scale, filename, style, interactive, line_length, plot_barriers, reverse_bits, justify, vertical_compression, idle_wires, with_layout, fold, ax, initial_state, cregbundle)\u001b[0m\n\u001b[1;32m    986\u001b[0m                               \u001b[0max\u001b[0m\u001b[0;34m=\u001b[0m\u001b[0max\u001b[0m\u001b[0;34m,\u001b[0m\u001b[0;34m\u001b[0m\u001b[0;34m\u001b[0m\u001b[0m\n\u001b[1;32m    987\u001b[0m                               \u001b[0minitial_state\u001b[0m\u001b[0;34m=\u001b[0m\u001b[0minitial_state\u001b[0m\u001b[0;34m,\u001b[0m\u001b[0;34m\u001b[0m\u001b[0;34m\u001b[0m\u001b[0m\n\u001b[0;32m--> 988\u001b[0;31m                               cregbundle=cregbundle)\n\u001b[0m\u001b[1;32m    989\u001b[0m \u001b[0;34m\u001b[0m\u001b[0m\n\u001b[1;32m    990\u001b[0m     \u001b[0;32mdef\u001b[0m \u001b[0msize\u001b[0m\u001b[0;34m(\u001b[0m\u001b[0mself\u001b[0m\u001b[0;34m)\u001b[0m\u001b[0;34m:\u001b[0m\u001b[0;34m\u001b[0m\u001b[0;34m\u001b[0m\u001b[0m\n",
            "\u001b[0;32m/opt/conda/lib/python3.7/site-packages/qiskit/visualization/circuit_visualization.py\u001b[0m in \u001b[0;36mcircuit_drawer\u001b[0;34m(circuit, scale, filename, style, output, interactive, line_length, plot_barriers, reverse_bits, justify, vertical_compression, idle_wires, with_layout, fold, ax, initial_state, cregbundle)\u001b[0m\n\u001b[1;32m    321\u001b[0m                                            \u001b[0mwith_layout\u001b[0m\u001b[0;34m=\u001b[0m\u001b[0mwith_layout\u001b[0m\u001b[0;34m,\u001b[0m\u001b[0;34m\u001b[0m\u001b[0;34m\u001b[0m\u001b[0m\n\u001b[1;32m    322\u001b[0m                                            \u001b[0mfold\u001b[0m\u001b[0;34m=\u001b[0m\u001b[0mfold\u001b[0m\u001b[0;34m,\u001b[0m\u001b[0;34m\u001b[0m\u001b[0;34m\u001b[0m\u001b[0m\n\u001b[0;32m--> 323\u001b[0;31m                                            ax=ax)\n\u001b[0m\u001b[1;32m    324\u001b[0m     \u001b[0;32melse\u001b[0m\u001b[0;34m:\u001b[0m\u001b[0;34m\u001b[0m\u001b[0;34m\u001b[0m\u001b[0m\n\u001b[1;32m    325\u001b[0m         raise exceptions.VisualizationError(\n",
            "\u001b[0;32m/opt/conda/lib/python3.7/site-packages/qiskit/visualization/circuit_visualization.py\u001b[0m in \u001b[0;36m_matplotlib_circuit_drawer\u001b[0;34m(circuit, scale, filename, style, plot_barriers, reverse_bits, justify, idle_wires, with_layout, fold, ax)\u001b[0m\n\u001b[1;32m    663\u001b[0m                                        \u001b[0mreverse_bits\u001b[0m\u001b[0;34m=\u001b[0m\u001b[0mreverse_bits\u001b[0m\u001b[0;34m,\u001b[0m \u001b[0mlayout\u001b[0m\u001b[0;34m=\u001b[0m\u001b[0mlayout\u001b[0m\u001b[0;34m,\u001b[0m\u001b[0;34m\u001b[0m\u001b[0;34m\u001b[0m\u001b[0m\n\u001b[1;32m    664\u001b[0m                                        fold=fold, ax=ax)\n\u001b[0;32m--> 665\u001b[0;31m     \u001b[0;32mreturn\u001b[0m \u001b[0mqcd\u001b[0m\u001b[0;34m.\u001b[0m\u001b[0mdraw\u001b[0m\u001b[0;34m(\u001b[0m\u001b[0mfilename\u001b[0m\u001b[0;34m)\u001b[0m\u001b[0;34m\u001b[0m\u001b[0;34m\u001b[0m\u001b[0m\n\u001b[0m",
            "\u001b[0;32m/opt/conda/lib/python3.7/site-packages/qiskit/visualization/matplotlib.py\u001b[0m in \u001b[0;36mdraw\u001b[0;34m(self, filename, verbose)\u001b[0m\n\u001b[1;32m    513\u001b[0m     \u001b[0;32mdef\u001b[0m \u001b[0mdraw\u001b[0m\u001b[0;34m(\u001b[0m\u001b[0mself\u001b[0m\u001b[0;34m,\u001b[0m \u001b[0mfilename\u001b[0m\u001b[0;34m=\u001b[0m\u001b[0;32mNone\u001b[0m\u001b[0;34m,\u001b[0m \u001b[0mverbose\u001b[0m\u001b[0;34m=\u001b[0m\u001b[0;32mFalse\u001b[0m\u001b[0;34m)\u001b[0m\u001b[0;34m:\u001b[0m\u001b[0;34m\u001b[0m\u001b[0;34m\u001b[0m\u001b[0m\n\u001b[1;32m    514\u001b[0m         \u001b[0mself\u001b[0m\u001b[0;34m.\u001b[0m\u001b[0m_draw_regs\u001b[0m\u001b[0;34m(\u001b[0m\u001b[0;34m)\u001b[0m\u001b[0;34m\u001b[0m\u001b[0;34m\u001b[0m\u001b[0m\n\u001b[0;32m--> 515\u001b[0;31m         \u001b[0mself\u001b[0m\u001b[0;34m.\u001b[0m\u001b[0m_draw_ops\u001b[0m\u001b[0;34m(\u001b[0m\u001b[0mverbose\u001b[0m\u001b[0;34m)\u001b[0m\u001b[0;34m\u001b[0m\u001b[0;34m\u001b[0m\u001b[0m\n\u001b[0m\u001b[1;32m    516\u001b[0m         \u001b[0m_xl\u001b[0m \u001b[0;34m=\u001b[0m \u001b[0;34m-\u001b[0m \u001b[0mself\u001b[0m\u001b[0;34m.\u001b[0m\u001b[0m_style\u001b[0m\u001b[0;34m.\u001b[0m\u001b[0mmargin\u001b[0m\u001b[0;34m[\u001b[0m\u001b[0;36m0\u001b[0m\u001b[0;34m]\u001b[0m\u001b[0;34m\u001b[0m\u001b[0;34m\u001b[0m\u001b[0m\n\u001b[1;32m    517\u001b[0m         \u001b[0m_xr\u001b[0m \u001b[0;34m=\u001b[0m \u001b[0mself\u001b[0m\u001b[0;34m.\u001b[0m\u001b[0m_cond\u001b[0m\u001b[0;34m[\u001b[0m\u001b[0;34m'xmax'\u001b[0m\u001b[0;34m]\u001b[0m \u001b[0;34m+\u001b[0m \u001b[0mself\u001b[0m\u001b[0;34m.\u001b[0m\u001b[0m_style\u001b[0m\u001b[0;34m.\u001b[0m\u001b[0mmargin\u001b[0m\u001b[0;34m[\u001b[0m\u001b[0;36m1\u001b[0m\u001b[0;34m]\u001b[0m\u001b[0;34m\u001b[0m\u001b[0;34m\u001b[0m\u001b[0m\n",
            "\u001b[0;32m/opt/conda/lib/python3.7/site-packages/qiskit/visualization/matplotlib.py\u001b[0m in \u001b[0;36m_draw_ops\u001b[0;34m(self, verbose)\u001b[0m\n\u001b[1;32m    856\u001b[0m                     \u001b[0mvec\u001b[0m \u001b[0;34m=\u001b[0m \u001b[0;34m'[%s]'\u001b[0m \u001b[0;34m%\u001b[0m \u001b[0mparam\u001b[0m\u001b[0;34m\u001b[0m\u001b[0;34m\u001b[0m\u001b[0m\n\u001b[1;32m    857\u001b[0m                     self._custom_multiqubit_gate(q_xy, wide=_iswide,\n\u001b[0;32m--> 858\u001b[0;31m                                                  \u001b[0mtext\u001b[0m\u001b[0;34m=\u001b[0m\u001b[0mop\u001b[0m\u001b[0;34m.\u001b[0m\u001b[0mop\u001b[0m\u001b[0;34m.\u001b[0m\u001b[0mlabel\u001b[0m \u001b[0;32mor\u001b[0m \u001b[0;34m\"|psi>\"\u001b[0m\u001b[0;34m,\u001b[0m\u001b[0;34m\u001b[0m\u001b[0;34m\u001b[0m\u001b[0m\n\u001b[0m\u001b[1;32m    859\u001b[0m                                                  subtext=vec)\n\u001b[1;32m    860\u001b[0m                 \u001b[0;32melif\u001b[0m \u001b[0mop\u001b[0m\u001b[0;34m.\u001b[0m\u001b[0mname\u001b[0m \u001b[0;34m==\u001b[0m \u001b[0;34m'unitary'\u001b[0m\u001b[0;34m:\u001b[0m\u001b[0;34m\u001b[0m\u001b[0;34m\u001b[0m\u001b[0m\n",
            "\u001b[0;31mAttributeError\u001b[0m: 'Initialize' object has no attribute 'label'"
          ]
        },
        {
          "data": {
            "image/png": "[encoded data removed]",
            "text/plain": "<Figure size 432x288 with 1 Axes>"
          },
          "metadata": {},
          "output_type": "display_data"
        }
      ],
      "source": "#projection and meassurement\nqc.barrier(q[0])\nqc.barrier(q[1])\nqc.barrier(q[2])\nqc.barrier(q[3])\nqc.barrier(q[4])\n#qc.measure(q[0],c[0])\nqc.measure(q[3],c[3])\nqc.measure(q[4],c[4])\nqc.draw()\n#qc.draw(output='mpl')"
    },
    {
      "cell_type": "code",
      "execution_count": null,
      "metadata": {
        "trusted": true
      },
      "outputs": [],
      "source": "backend_qasm=BasicAer.get_backend('qasm_simulator')\njob_qasm=execute(qc,backend_qasm,shots=8192)\nresult_qasm=job_qasm.result()\ncounts=result_qasm.get_counts(qc)\nprint(counts)\nplot_histogram(counts)\nsim_jobID=job_qasm.job_id()\nprint('SIMULATION JOB ID: {}'.format(sim_jobID))"
    },
    {
      "cell_type": "code",
      "execution_count": null,
      "metadata": {
        "trusted": true
      },
      "outputs": [],
      "source": "plot_histogram(counts)"
    },
    {
      "cell_type": "code",
      "execution_count": null,
      "metadata": {
        "trusted": true
      },
      "outputs": [],
      "source": "import numpy as np\nprint(np.sqrt(0.549),np.sqrt(0.076),np.sqrt(0.095),np.sqrt(0.279))"
    },
    {
      "cell_type": "code",
      "execution_count": null,
      "metadata": {
        "trusted": true
      },
      "outputs": [],
      "source": "\nfrom qiskit import IBMQ\nIBMQ.save_account('40569770d0120fe7392433ffa17201279f44b312a532919cf73bf10c25c98f3eb853ca70b3aac56352f28049911423a55042f120c5acdb087c1671b86f338322',overwrite=True)\nIBMQ.load_account()\nIBMQ.enable_account('40569770d0120fe7392433ffa17201279f44b312a532919cf73bf10c25c98f3eb853ca70b3aac56352f28049911423a55042f120c5acdb087c1671b86f338322')\nmy_provider = IBMQ.get_provider()\nmy_backend  = my_provider.get_backend('ibmqx4')\n# backend = IBMQ.get_backend('ibmqx4')\n# # qcomp = qiskit.IBMQ.get_backend('ibmqx4')\n# job = execute(qc,backend='ibmq_16_melbourne',shots=8192)\n\n# from qiskit.tools.monitor import job_nomitor\n# job_monitor(job)\n# result = job.result()\n# plot_histogram(result.get_counts(qc))\n"
    },
    {
      "cell_type": "code",
      "execution_count": null,
      "metadata": {
        "trusted": true
      },
      "outputs": [],
      "source": ""
    }
  ],
  "metadata": {
    "kernelspec": {
      "display_name": "Python 3",
      "language": "python",
      "name": "python3"
    },
    "language_info": {
      "codemirror_mode": {
        "name": "ipython",
        "version": 3
      },
      "file_extension": ".py",
      "mimetype": "text/x-python",
      "name": "python",
      "nbconvert_exporter": "python",
      "pygments_lexer": "ipython3",
      "version": "3.7.8"
    }
  },
  "nbformat": 4,
  "nbformat_minor": 2
}