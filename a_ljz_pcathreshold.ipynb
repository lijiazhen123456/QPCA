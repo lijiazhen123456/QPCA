{
  "cells": [
    {
      "cell_type": "code",
      "execution_count": 14,
      "metadata": {
        "trusted": true
      },
      "outputs": [
        {
          "name": "stderr",
          "output_type": "stream",
          "text": "ibmqfactory.load_account:WARNING:2020-05-24 09:45:41,933: Credentials are already in use. The existing account in the session will be replaced.\n"
        }
      ],
      "source": "\"\"\"\ncerate on 2020.4.26\nby ljz to 2DQPCA_addthreshold\n\"\"\"\n%matplotlib inline\n# Importing standard Qiskit libraries and configuring account\nfrom qiskit import QuantumCircuit, execute, Aer,BasicAer,IBMQ,QuantumRegister,ClassicalRegister\nfrom qiskit.compiler import transpile, assemble\nfrom qiskit.tools.jupyter import *\nfrom qiskit.visualization import *\n# Loading your IBM Q account(s)\nprovider = IBMQ.load_account()"
    },
    {
      "cell_type": "code",
      "execution_count": 15,
      "metadata": {
        "trusted": true
      },
      "outputs": [
        {
          "name": "stdout",
          "output_type": "stream",
          "text": "lambda= [2. 1.]\nv1= 2.0\nv2= 1.0\nvector= [[ 0.70710678 -0.70710678]\n [ 0.70710678  0.70710678]]\nu1= [0.70710678 0.70710678]\nu2= [-0.70710678  0.70710678]\npsi= [0.67082039 0.2236068  0.2236068  0.67082039]\n"
        }
      ],
      "source": "import numpy as np\nA = np.array([[1.5,0.5],[0.5,1.5]])\nlambda1,vector1 = np.linalg.eig(A)\nu1 = vector1[:,0]\nu2 = vector1[:,1]\nv1 = lambda1[0]\nv2 = lambda1[1]\nprint(\"lambda=\",lambda1)\nprint(\"v1=\",v1)\nprint(\"v2=\",v2)\nprint(\"vector=\",vector1)\nprint(\"u1=\",u1)\nprint(\"u2=\",u2)\n\npsi = (np.kron(u1,u1)*v1+np.kron(u2,u2)*v2)/(np.sqrt(v1*v1+v2*v2))\nprint(\"psi=\",psi)"
    },
    {
      "cell_type": "code",
      "execution_count": 16,
      "metadata": {
        "trusted": true
      },
      "outputs": [
        {
          "data": {
            "text/plain": "<qiskit.circuit.instructionset.InstructionSet at 0x7eff75e824d0>"
          },
          "execution_count": 16,
          "metadata": {},
          "output_type": "execute_result"
        }
      ],
      "source": "q = QuantumRegister(5)\nc = ClassicalRegister(5)\nqc = QuantumCircuit(q,c)\n\n#initial q[0]\nqc.initialize(psi,[q[3],q[4]])\nqc.barrier(q[0],q[1],q[2],q[3],q[4])"
    },
    {
      "cell_type": "code",
      "execution_count": 17,
      "metadata": {
        "trusted": true
      },
      "outputs": [
        {
          "data": {
            "text/plain": "<qiskit.circuit.instructionset.InstructionSet at 0x7effdc9f9e90>"
          },
          "execution_count": 17,
          "metadata": {},
          "output_type": "execute_result"
        }
      ],
      "source": "#phase estimation\nimport math\nqc.h(q[1])\nqc.h(q[2])\nqc.cu3(-math.pi/2,-math.pi/2,math.pi/2,q[2],q[3])\nqc.u1(3*math.pi/4,q[2])\nqc.cx(q[1],q[3])\nqc.swap(q[1],q[2])\nqc.h(q[2])\nqc.cu1(-math.pi/2,q[1],q[2])\nqc.h(q[1])\nqc.barrier(q[0],q[1],q[2],q[3],q[4])"
    },
    {
      "cell_type": "code",
      "execution_count": 18,
      "metadata": {
        "trusted": true
      },
      "outputs": [
        {
          "data": {
            "text/plain": "<qiskit.circuit.instructionset.InstructionSet at 0x7effdc9e4110>"
          },
          "execution_count": 18,
          "metadata": {},
          "output_type": "execute_result"
        }
      ],
      "source": "#transformation y_k\nqc.x(q[2])\nqc.cx(q[2],q[1])\nqc.barrier(q[0],q[1],q[2],q[3],q[4])"
    },
    {
      "cell_type": "code",
      "execution_count": 19,
      "metadata": {
        "trusted": true
      },
      "outputs": [
        {
          "data": {
            "text/plain": "<qiskit.circuit.instructionset.InstructionSet at 0x7effdc9dda90>"
          },
          "execution_count": 19,
          "metadata": {},
          "output_type": "execute_result"
        }
      ],
      "source": "#Anc qubit cont operation\nqc.x(q[1])\nqc.x(q[2])\nqc.ccx(q[1],q[2],q[0])\nqc.x(q[1])\nqc.x(q[2])\nqc.x(q[0])\nqc.barrier(q[0],q[1],q[2],q[3],q[4])"
    },
    {
      "cell_type": "code",
      "execution_count": 20,
      "metadata": {
        "trusted": true
      },
      "outputs": [
        {
          "data": {
            "text/plain": "<qiskit.circuit.instructionset.InstructionSet at 0x7effdc9bb550>"
          },
          "execution_count": 20,
          "metadata": {},
          "output_type": "execute_result"
        }
      ],
      "source": "#Reverse operation\n\n# cnot = np.array([[1,0,0,0],[0,1,0,0],[0,0,0,1],[0,0,1,0]])\n# cnot_ = np.linalg.inv(cnot)\n# print(cnot_)cnot=cnot_\n\n#reverse y_k\nqc.cx(q[2],q[1])\nqc.x(q[2])\n#reverse phase estimation\nqc.h(q[1])\nqc.cu1(math.pi/2,q[1],q[2])\nqc.h(q[2])\nqc.swap(q[1],q[2])\nqc.cx(q[1],q[3])\nqc.h(q[1])\nqc.u1(-3*math.pi/4,q[2])\nqc.cu3(-math.pi/2,math.pi/2,-math.pi/2,q[2],q[3])\nqc.h(q[2])\nqc.barrier(q[0],q[1],q[2],q[3],q[4])"
    },
    {
      "cell_type": "code",
      "execution_count": 21,
      "metadata": {
        "trusted": true
      },
      "outputs": [
        {
          "data": {
            "text/plain": "<qiskit.circuit.instructionset.InstructionSet at 0x7effdca08b90>"
          },
          "execution_count": 21,
          "metadata": {},
          "output_type": "execute_result"
        }
      ],
      "source": "qc.measure(q[0],c[0])\nqc.measure(q[1],c[1])\nqc.measure(q[2],c[2])\nqc.measure(q[3],c[3])\nqc.measure(q[4],c[4])"
    },
    {
      "cell_type": "code",
      "execution_count": 22,
      "metadata": {
        "trusted": true
      },
      "outputs": [],
      "source": "# qc.draw(output='mpl')"
    },
    {
      "cell_type": "code",
      "execution_count": 23,
      "metadata": {
        "trusted": true
      },
      "outputs": [
        {
          "name": "stdout",
          "output_type": "stream",
          "text": "{'00000': 434, '10000': 400, '01001': 1590, '10001': 1670, '11000': 433, '01000': 404, '11001': 1601, '00001': 1660}\nSIMULATION JOB ID: d9a0c1f8-ad97-4c91-8dc9-e30927ddc9c1\n"
        }
      ],
      "source": "backend_qasm=BasicAer.get_backend('qasm_simulator')\njob_qasm=execute(qc,backend_qasm,shots=8192)\nresult_qasm=job_qasm.result()\ncounts=result_qasm.get_counts(qc)\nprint(counts)\n\nsim_jobID=job_qasm.job_id()\nprint('SIMULATION JOB ID: {}'.format(sim_jobID))"
    },
    {
      "cell_type": "code",
      "execution_count": 24,
      "metadata": {
        "trusted": true
      },
      "outputs": [
        {
          "data": {
            "image/png": "[encoded data removed]",
            "text/plain": "<Figure size 504x360 with 1 Axes>"
          },
          "execution_count": 24,
          "metadata": {},
          "output_type": "execute_result"
        }
      ],
      "source": "plot_histogram(counts)"
    },
    {
      "cell_type": "code",
      "execution_count": 25,
      "metadata": {
        "trusted": true
      },
      "outputs": [
        {
          "name": "stdout",
          "output_type": "stream",
          "text": "result_ideal: [0.67082039 0.2236068  0.2236068  0.67082039]\nresult_qasm: [0.49109004 0.51529442 0.49724847 0.49603044]\naccurate: 0.9998316825180544\n"
        }
      ],
      "source": "psi=np.array([0.67082039,0.2236068,0.2236068,0.67082039])\nresult_ideal2 = np.array([0.5,0.5,0.5,0.5])\nresult_ideal1=psi\nresult_qasm1 = np.array([0.693,0.139,0.139,0.693])\nsum1=0.19336+0.21289+0.19824+0.19727\nresult_qasm2 = np.array([np.sqrt(0.19336/sum1),np.sqrt(0.21289/sum1),np.sqrt(0.19824/sum1),\n      np.sqrt(0.19727/sum1)])\naccurate = np.dot(result_ideal2,result_qasm2)\nprint(\"result_ideal:\",result_ideal1)\nprint(\"result_qasm:\",result_qasm2)\nprint(\"accurate:\",accurate)"
    },
    {
      "cell_type": "code",
      "execution_count": 26,
      "metadata": {
        "trusted": true
      },
      "outputs": [
        {
          "name": "stdout",
          "output_type": "stream",
          "text": "[0.50336304 0.49985226 0.49406718 0.50266389]\n0.9999731867069841\n"
        }
      ],
      "source": "a=np.sqrt(0.17676)\nb=np.sqrt(0.17188)\nc=np.sqrt(0.16406)\nd=np.sqrt(0.17578)\nsum2=a+b+c+d\nzhi=np.array([np.sqrt(a/sum2),np.sqrt(b/sum2),np.sqrt(c/sum2),np.sqrt(d/sum2)])\nprint(zhi)\naccurate = np.dot(result_ideal2,zhi)\nprint(accurate)"
    },
    {
      "cell_type": "code",
      "execution_count": null,
      "metadata": {
        "trusted": true
      },
      "outputs": [],
      "source": ""
    }
  ],
  "metadata": {
    "kernelspec": {
      "display_name": "Python 3",
      "language": "python",
      "name": "python3"
    },
    "language_info": {
      "codemirror_mode": {
        "name": "ipython",
        "version": 3
      },
      "file_extension": ".py",
      "mimetype": "text/x-python",
      "name": "python",
      "nbconvert_exporter": "python",
      "pygments_lexer": "ipython3",
      "version": "3.7.8"
    }
  },
  "nbformat": 4,
  "nbformat_minor": 4
}